{
 "cells": [
  {
   "cell_type": "markdown",
   "metadata": {},
   "source": [
    "## Notas\n",
    "\n",
    "¿Que son los componentes? Los componentes son una pequeña pieza de codigo encapsulado reutilizable que puede tener estado o no.\n",
    "\n",
    "Estos pueden tener componentes hijos.\n",
    "\n",
    "\n",
    "### Inicializar una app de React\n",
    "Hay formas de incializar apps de react \n",
    "- Precunfiguradas (create React App)\n",
    "- Vite (Es mas rapido y amigable en proyectos grandes)\n",
    "\n",
    "Vite te permite instalar solo las dependencias de react que ocuparas y el create react app instala todo.\n",
    "\n",
    "#### Crear App con Vite\n",
    "    1.- Insertar el comando: `npm create vite`\n",
    "    2.- Poner el nombre del proyecto\n",
    "    4.- Seleccionar que tipo de tecnologia a usar\n",
    "    5.- Seleccionar la variante (typescript)\n",
    "    6.- Ingresar a la carpeta que se creara\n",
    "    7.- Instalar todas las dependencias `npm i`\n",
    "\n",
    "#### Crear App con Create React App(CRA)\n",
    "    1.- Insertar el comando: `npx create-react-app name`"
   ]
  }
 ],
 "metadata": {
  "language_info": {
   "name": "python"
  }
 },
 "nbformat": 4,
 "nbformat_minor": 2
}
