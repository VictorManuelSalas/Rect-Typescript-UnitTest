{
 "cells": [
  {
   "cell_type": "markdown",
   "metadata": {},
   "source": [
    "## Priemros Pasos En React\n",
    "Para poder instalar/crear una nueva app de React en la comuptadora es muy faci. Se pueden usar herramientas diseñadas para eso por ejemplo:\n",
    "- [Vite](https://vite.dev/guide/)\n",
    "- [Create React App](https://create-react-app.dev/)"
   ]
  },
  {
   "cell_type": "markdown",
   "metadata": {},
   "source": [
    "### Create React App Tool\n",
    "Se usa el comando __npx create-react-app \"nombre de la app\"__, este no te instalara nada mas lo necesario para inicializar la aplicacion. \n",
    "\n",
    "#### Actualizar Version de React\n",
    "Usando el comando __npm install react-scripts@latest__ actualizaras la version de la tool. \n"
   ]
  }
 ],
 "metadata": {
  "language_info": {
   "name": "python"
  }
 },
 "nbformat": 4,
 "nbformat_minor": 2
}
