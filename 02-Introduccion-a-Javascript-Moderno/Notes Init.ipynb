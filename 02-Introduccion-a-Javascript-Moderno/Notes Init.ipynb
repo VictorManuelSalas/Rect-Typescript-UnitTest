{
 "cells": [
  {
   "cell_type": "markdown",
   "metadata": {},
   "source": [
    "## Temas puntuales de la sección\n",
    "¿Qué aprenderemos en esta sección?\n",
    "- Generar la base sobre JavaScript\n",
    "- Constantes y variables Let\n",
    "- Template String\n",
    "- Objetos literales\n",
    "- Arreglos\n",
    "- Desestructruación * (sumamente importante)\n",
    "- Promesas\n",
    "- Fetch API\n",
    "- Ternarios\n",
    "- Async - Await\n",
    "\n",
    "Mi objetivo aquí es que tengamos las bases que nos ayuden a que podamos diferenciar fácilmente qué es propio de React y qué es propio de JavaScript. Estos conceptos y ejercicios nos ayudarán a suavizar la curva de aprendizaje de React."
   ]
  },
  {
   "cell_type": "markdown",
   "metadata": {},
   "source": [
    "#### Nota Importante Create React App - CRA\n",
    "Al intentar crear un proyecto con CRA actualmente encontrarán un error por incompatibilidad entre dependencias. Esta ya no es una forma recomendada de crear aplicaciones de React por lo cual les recomendamos hacer uso de [Vite](\"https://vite.dev/guide/\").\n",
    "\n",
    "\n",
    "Pueden crear el proyecto usando el template de vanilla JavaScript, pues usaremos React en la proxima sección"
   ]
  }
 ],
 "metadata": {
  "language_info": {
   "name": "python"
  }
 },
 "nbformat": 4,
 "nbformat_minor": 2
}
